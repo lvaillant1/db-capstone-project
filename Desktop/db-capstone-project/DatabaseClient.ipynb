{
 "cells": [
  {
   "cell_type": "code",
   "execution_count": 1,
   "id": "df504442",
   "metadata": {},
   "outputs": [
    {
     "name": "stdout",
     "output_type": "stream",
     "text": [
      "Requirement already satisfied: mysql-connector-python in /Library/Frameworks/Python.framework/Versions/3.11/lib/python3.11/site-packages (8.0.33)\r\n",
      "Requirement already satisfied: protobuf<=3.20.3,>=3.11.0 in /Library/Frameworks/Python.framework/Versions/3.11/lib/python3.11/site-packages (from mysql-connector-python) (3.20.3)\r\n"
     ]
    }
   ],
   "source": [
    "!pip install mysql-connector-python"
   ]
  },
  {
   "cell_type": "code",
   "execution_count": 21,
   "id": "8fce7f4f",
   "metadata": {},
   "outputs": [],
   "source": [
    "import mysql.connector as connector\n"
   ]
  },
  {
   "cell_type": "code",
   "execution_count": 22,
   "id": "00f60b66",
   "metadata": {},
   "outputs": [],
   "source": [
    "connection = connector.connect(user = \"admin2\", password = \"#Maitandi08#\", db = \"LittleLemonDB\")\n"
   ]
  },
  {
   "cell_type": "code",
   "execution_count": 23,
   "id": "205dd5c2",
   "metadata": {},
   "outputs": [],
   "source": [
    "cursor = connection.cursor()"
   ]
  },
  {
   "cell_type": "code",
   "execution_count": 24,
   "id": "c8ff7d88",
   "metadata": {},
   "outputs": [],
   "source": [
    "show_tables_query = \"\"\"SHOW tables\"\"\"\n",
    "cursor.execute(show_tables_query)"
   ]
  },
  {
   "cell_type": "code",
   "execution_count": 25,
   "id": "8d5cf0d3",
   "metadata": {},
   "outputs": [],
   "source": [
    "results = cursor.fetchall()"
   ]
  },
  {
   "cell_type": "code",
   "execution_count": 26,
   "id": "c0c6b49a",
   "metadata": {},
   "outputs": [
    {
     "name": "stdout",
     "output_type": "stream",
     "text": [
      "('Bookings',)\n",
      "('costview_150',)\n",
      "('Customers',)\n",
      "('Delivery',)\n",
      "('MenuItems',)\n",
      "('Menus',)\n",
      "('Orders',)\n",
      "('ordersview',)\n",
      "('quantityview_2',)\n",
      "('Staff',)\n"
     ]
    }
   ],
   "source": [
    "for result in results:\n",
    "    print(result)"
   ]
  },
  {
   "cell_type": "code",
   "execution_count": 27,
   "id": "43cd12d4",
   "metadata": {},
   "outputs": [],
   "source": [
    "select_query = \"\"\"SELECT CONCAT(Customers.CustomerFirstName, ' ', Customers.CustomerLastName) AS FullName, Customers.ContactNumber, Customers.Email, Orders.TotalCost\n",
    "FROM Customers\n",
    "INNER JOIN Orders\n",
    "ON Customers.CustomerID = Orders.CustomerID\n",
    "WHERE Orders.TotalCost > 60\"\"\""
   ]
  },
  {
   "cell_type": "code",
   "execution_count": 28,
   "id": "a7339735",
   "metadata": {},
   "outputs": [
    {
     "name": "stdout",
     "output_type": "stream",
     "text": [
      "('FullName', 'ContactNumber', 'Email', 'TotalCost')\n",
      "('Chris  Paul', 1078231888, 'c.paul@jmail.com', Decimal('125.00'))\n",
      "('Dwyane Wade', 1077454432, 'd.wade@zahoo.com', Decimal('235.00'))\n",
      "('Carmelo  Anthony', 1004546678, 'c.anthony@yotmail.com', Decimal('75.00'))\n",
      "('Zion Williamson', 1070789777, 'z.williamson@ool.com', Decimal('220.00'))\n"
     ]
    }
   ],
   "source": [
    "cursor.execute(select_query)\n",
    "results = cursor.fetchall()\n",
    "columns = cursor.column_names\n",
    "print(columns)\n",
    "for result in results:\n",
    "    print(result)"
   ]
  },
  {
   "cell_type": "code",
   "execution_count": null,
   "id": "50b145ec",
   "metadata": {},
   "outputs": [],
   "source": []
  }
 ],
 "metadata": {
  "kernelspec": {
   "display_name": "Python 3 (ipykernel)",
   "language": "python",
   "name": "python3"
  },
  "language_info": {
   "codemirror_mode": {
    "name": "ipython",
    "version": 3
   },
   "file_extension": ".py",
   "mimetype": "text/x-python",
   "name": "python",
   "nbconvert_exporter": "python",
   "pygments_lexer": "ipython3",
   "version": "3.11.4"
  }
 },
 "nbformat": 4,
 "nbformat_minor": 5
}
